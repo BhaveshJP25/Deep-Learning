{
 "cells": [
  {
   "cell_type": "code",
   "execution_count": 1,
   "id": "peripheral-florence",
   "metadata": {},
   "outputs": [],
   "source": [
    "import torch\n",
    "import torchvision\n",
    "from torchvision.datasets import MNIST"
   ]
  },
  {
   "cell_type": "code",
   "execution_count": 2,
   "id": "equivalent-modification",
   "metadata": {},
   "outputs": [
    {
     "data": {
      "text/plain": [
       "Dataset MNIST\n",
       "    Number of datapoints: 60000\n",
       "    Root location: data/\n",
       "    Split: Train"
      ]
     },
     "execution_count": 2,
     "metadata": {},
     "output_type": "execute_result"
    }
   ],
   "source": [
    "dataset = MNIST(root='data/', download=True)\n",
    "dataset"
   ]
  },
  {
   "cell_type": "code",
   "execution_count": 3,
   "id": "hourly-architecture",
   "metadata": {},
   "outputs": [
    {
     "data": {
      "text/plain": [
       "60000"
      ]
     },
     "execution_count": 3,
     "metadata": {},
     "output_type": "execute_result"
    }
   ],
   "source": [
    "len(dataset)"
   ]
  },
  {
   "cell_type": "code",
   "execution_count": 4,
   "id": "graphic-furniture",
   "metadata": {},
   "outputs": [
    {
     "data": {
      "text/plain": [
       "10000"
      ]
     },
     "execution_count": 4,
     "metadata": {},
     "output_type": "execute_result"
    }
   ],
   "source": [
    "test_dataset = MNIST(root='data/', train=False)\n",
    "len(test_dataset)"
   ]
  },
  {
   "cell_type": "code",
   "execution_count": 5,
   "id": "aquatic-toyota",
   "metadata": {},
   "outputs": [
    {
     "data": {
      "text/plain": [
       "(<PIL.Image.Image image mode=L size=28x28 at 0x198D6CCCCF8>, 5)"
      ]
     },
     "execution_count": 5,
     "metadata": {},
     "output_type": "execute_result"
    }
   ],
   "source": [
    "dataset[0]"
   ]
  },
  {
   "cell_type": "code",
   "execution_count": 6,
   "id": "disciplinary-manchester",
   "metadata": {},
   "outputs": [],
   "source": [
    "import matplotlib.pyplot as plt\n",
    "%matplotlib inline"
   ]
  },
  {
   "cell_type": "code",
   "execution_count": 7,
   "id": "earned-electron",
   "metadata": {},
   "outputs": [
    {
     "name": "stdout",
     "output_type": "stream",
     "text": [
      "Label : 5\n"
     ]
    },
    {
     "data": {
      "image/png": "[encoded data removed]",
      "text/plain": [
       "<Figure size 432x288 with 1 Axes>"
      ]
     },
     "metadata": {
      "needs_background": "light"
     },
     "output_type": "display_data"
    }
   ],
   "source": [
    "image, label = dataset[0]\n",
    "plt.imshow(image, cmap='gray')\n",
    "print(\"Label :\", label)"
   ]
  },
  {
   "cell_type": "code",
   "execution_count": 8,
   "id": "corresponding-carbon",
   "metadata": {},
   "outputs": [],
   "source": [
    "import torchvision.transforms as transforms"
   ]
  },
  {
   "cell_type": "code",
   "execution_count": 9,
   "id": "higher-mainstream",
   "metadata": {},
   "outputs": [],
   "source": [
    "dataset = MNIST(root='data/', train=True, transform=transforms.ToTensor())"
   ]
  },
  {
   "cell_type": "code",
   "execution_count": 10,
   "id": "sharp-valley",
   "metadata": {},
   "outputs": [
    {
     "name": "stdout",
     "output_type": "stream",
     "text": [
      "torch.Size([1, 28, 28]) 5\n"
     ]
    }
   ],
   "source": [
    "img_tensor, label = dataset[0]\n",
    "print(img_tensor.shape, label)\n",
    "# img_tensor"
   ]
  },
  {
   "cell_type": "code",
   "execution_count": 11,
   "id": "quality-arnold",
   "metadata": {
    "scrolled": true
   },
   "outputs": [
    {
     "data": {
      "text/plain": [
       "<matplotlib.image.AxesImage at 0x198e3c0fbe0>"
      ]
     },
     "execution_count": 11,
     "metadata": {},
     "output_type": "execute_result"
    },
    {
     "data": {
      "image/png": "[encoded data removed]",
      "text/plain": [
       "<Figure size 432x288 with 1 Axes>"
      ]
     },
     "metadata": {
      "needs_background": "light"
     },
     "output_type": "display_data"
    }
   ],
   "source": [
    "plt.imshow(img_tensor[0, 10:15, 10:15], cmap='gray')"
   ]
  },
  {
   "cell_type": "code",
   "execution_count": 12,
   "id": "ceramic-europe",
   "metadata": {},
   "outputs": [
    {
     "data": {
      "text/plain": [
       "(50000, 10000)"
      ]
     },
     "execution_count": 12,
     "metadata": {},
     "output_type": "execute_result"
    }
   ],
   "source": [
    "from torch.utils.data import random_split\n",
    "\n",
    "train_ds, val_ds = random_split(dataset, [50000, 10000])\n",
    "len(train_ds), len(val_ds)"
   ]
  },
  {
   "cell_type": "code",
   "execution_count": 13,
   "id": "dominican-canon",
   "metadata": {},
   "outputs": [],
   "source": [
    "from torch.utils.data import DataLoader\n",
    "\n",
    "batch_size = 128\n",
    "\n",
    "train_loader = DataLoader(train_ds, batch_size, shuffle=True)\n",
    "val_loader = DataLoader(val_ds, batch_size)"
   ]
  },
  {
   "cell_type": "code",
   "execution_count": 14,
   "id": "technological-football",
   "metadata": {},
   "outputs": [],
   "source": [
    "import torch.nn as nn\n",
    "    \n",
    "input_size = 28*28\n",
    "num_classes = 10\n",
    "\n",
    "model = nn.Linear(input_size, num_classes)"
   ]
  },
  {
   "cell_type": "code",
   "execution_count": 15,
   "id": "corrected-facial",
   "metadata": {},
   "outputs": [
    {
     "name": "stdout",
     "output_type": "stream",
     "text": [
      "torch.Size([10, 784])\n"
     ]
    },
    {
     "data": {
      "text/plain": [
       "Parameter containing:\n",
       "tensor([[ 0.0057,  0.0263, -0.0002,  ...,  0.0259, -0.0055,  0.0132],\n",
       "        [ 0.0064,  0.0209,  0.0234,  ..., -0.0096,  0.0095,  0.0292],\n",
       "        [-0.0314,  0.0247,  0.0035,  ..., -0.0106, -0.0313,  0.0172],\n",
       "        ...,\n",
       "        [ 0.0035, -0.0229, -0.0300,  ...,  0.0048,  0.0168, -0.0297],\n",
       "        [-0.0096, -0.0127,  0.0215,  ...,  0.0287,  0.0045,  0.0148],\n",
       "        [-0.0302, -0.0133,  0.0291,  ...,  0.0328, -0.0160, -0.0297]],\n",
       "       requires_grad=True)"
      ]
     },
     "execution_count": 15,
     "metadata": {},
     "output_type": "execute_result"
    }
   ],
   "source": [
    "print(model.weight.shape)\n",
    "model.weight"
   ]
  },
  {
   "cell_type": "code",
   "execution_count": 16,
   "id": "biological-radical",
   "metadata": {},
   "outputs": [
    {
     "name": "stdout",
     "output_type": "stream",
     "text": [
      "torch.Size([10])\n"
     ]
    },
    {
     "data": {
      "text/plain": [
       "Parameter containing:\n",
       "tensor([-0.0092, -0.0029,  0.0057,  0.0189,  0.0127,  0.0117,  0.0011, -0.0344,\n",
       "        -0.0331,  0.0073], requires_grad=True)"
      ]
     },
     "execution_count": 16,
     "metadata": {},
     "output_type": "execute_result"
    }
   ],
   "source": [
    "print(model.bias.shape)\n",
    "model.bias"
   ]
  },
  {
   "cell_type": "code",
   "execution_count": 20,
   "id": "nonprofit-operation",
   "metadata": {},
   "outputs": [],
   "source": [
    "# for images, labels in train_loader:\n",
    "#     print(labels)\n",
    "#     print(images.shape)\n",
    "#     outputs = model(images)\n",
    "#     break"
   ]
  },
  {
   "cell_type": "code",
   "execution_count": 21,
   "id": "completed-amendment",
   "metadata": {},
   "outputs": [
    {
     "data": {
      "text/plain": [
       "torch.Size([128, 1, 28, 28])"
      ]
     },
     "execution_count": 21,
     "metadata": {},
     "output_type": "execute_result"
    }
   ],
   "source": [
    "images.shape"
   ]
  },
  {
   "cell_type": "code",
   "execution_count": 22,
   "id": "gothic-satellite",
   "metadata": {},
   "outputs": [
    {
     "data": {
      "text/plain": [
       "torch.Size([128, 784])"
      ]
     },
     "execution_count": 22,
     "metadata": {},
     "output_type": "execute_result"
    }
   ],
   "source": [
    "images.reshape(128, 784).shape"
   ]
  },
  {
   "cell_type": "code",
   "execution_count": 23,
   "id": "planned-average",
   "metadata": {},
   "outputs": [],
   "source": [
    "class MnistModel(nn.Module):\n",
    "    def __init__(self):\n",
    "        super().__init__()\n",
    "        self.linear = nn.Linear(input_size, num_classes)\n",
    "        \n",
    "    def forward(self, xb):\n",
    "        xb = xb.reshape(-1, 784)\n",
    "        out = self.linear(xb)\n",
    "        return out\n",
    "    \n",
    "model = MnistModel()"
   ]
  },
  {
   "cell_type": "code",
   "execution_count": 24,
   "id": "athletic-archive",
   "metadata": {},
   "outputs": [
    {
     "name": "stdout",
     "output_type": "stream",
     "text": [
      "torch.Size([10, 784]) torch.Size([10])\n"
     ]
    },
    {
     "data": {
      "text/plain": [
       "[Parameter containing:\n",
       " tensor([[-0.0210, -0.0246,  0.0081,  ...,  0.0300, -0.0180,  0.0060],\n",
       "         [ 0.0355, -0.0184,  0.0119,  ...,  0.0280, -0.0221, -0.0087],\n",
       "         [ 0.0019,  0.0077,  0.0234,  ..., -0.0133, -0.0108, -0.0238],\n",
       "         ...,\n",
       "         [ 0.0250, -0.0126, -0.0235,  ..., -0.0333, -0.0005,  0.0144],\n",
       "         [-0.0010,  0.0210, -0.0259,  ..., -0.0262, -0.0268,  0.0089],\n",
       "         [ 0.0196, -0.0126,  0.0127,  ..., -0.0288,  0.0213,  0.0324]],\n",
       "        requires_grad=True),\n",
       " Parameter containing:\n",
       " tensor([ 0.0292, -0.0274, -0.0307,  0.0327, -0.0144, -0.0257,  0.0152, -0.0281,\n",
       "          0.0121, -0.0121], requires_grad=True)]"
      ]
     },
     "execution_count": 24,
     "metadata": {},
     "output_type": "execute_result"
    }
   ],
   "source": [
    "print(model.linear.weight.shape, model.linear.bias.shape)\n",
    "list(model.parameters())"
   ]
  },
  {
   "cell_type": "code",
   "execution_count": 25,
   "id": "norwegian-usage",
   "metadata": {},
   "outputs": [
    {
     "name": "stdout",
     "output_type": "stream",
     "text": [
      "torch.Size([128, 1, 28, 28])\n",
      "outputs.shape :  torch.Size([128, 10])\n",
      "Sample outputs :\n",
      " tensor([[ 0.1537,  0.2453,  0.2467, -0.0027, -0.0738,  0.1607,  0.1070, -0.1365,\n",
      "         -0.2190,  0.3217],\n",
      "        [ 0.3250,  0.2365,  0.1845,  0.2485, -0.0741,  0.2073,  0.1329,  0.2553,\n",
      "         -0.4153,  0.1983]])\n"
     ]
    }
   ],
   "source": [
    "for images, labels in train_loader:\n",
    "    print(images.shape)\n",
    "    outputs = model(images)\n",
    "    break\n",
    "\n",
    "print('outputs.shape : ', outputs.shape)\n",
    "print('Sample outputs :\\n', outputs[:2].data)"
   ]
  },
  {
   "cell_type": "code",
   "execution_count": 26,
   "id": "cubic-cotton",
   "metadata": {},
   "outputs": [],
   "source": [
    "import torch.nn.functional as F"
   ]
  },
  {
   "cell_type": "code",
   "execution_count": 27,
   "id": "toxic-panama",
   "metadata": {},
   "outputs": [
    {
     "name": "stdout",
     "output_type": "stream",
     "text": [
      "Sample probabilities:\n",
      " tensor([[0.1061, 0.1163, 0.1164, 0.0907, 0.0845, 0.1068, 0.1012, 0.0794, 0.0731,\n",
      "         0.1255],\n",
      "        [0.1192, 0.1091, 0.1036, 0.1105, 0.0800, 0.1060, 0.0984, 0.1112, 0.0569,\n",
      "         0.1050]])\n",
      "Sum:  1.0\n"
     ]
    }
   ],
   "source": [
    "probs = F.softmax(outputs, dim=1)\n",
    "\n",
    "print(\"Sample probabilities:\\n\", probs[:2].data)\n",
    "\n",
    "print(\"Sum: \", torch.sum(probs[0]).item())"
   ]
  },
  {
   "cell_type": "code",
   "execution_count": 28,
   "id": "japanese-dialogue",
   "metadata": {},
   "outputs": [
    {
     "name": "stdout",
     "output_type": "stream",
     "text": [
      "tensor([9, 0, 2, 5, 5, 9, 2, 5, 2, 2, 2, 1, 2, 0, 6, 8, 2, 7, 9, 3, 5, 5, 9, 0,\n",
      "        3, 6, 3, 9, 9, 0, 9, 9, 2, 3, 2, 6, 3, 2, 2, 2, 1, 9, 5, 5, 0, 0, 2, 7,\n",
      "        2, 5, 9, 1, 2, 2, 5, 9, 5, 6, 9, 2, 2, 2, 2, 3, 1, 3, 2, 0, 2, 2, 0, 9,\n",
      "        2, 2, 5, 1, 2, 2, 7, 6, 1, 1, 5, 9, 2, 2, 2, 9, 2, 5, 5, 0, 2, 5, 2, 5,\n",
      "        2, 5, 2, 6, 2, 6, 9, 6, 1, 2, 5, 1, 9, 1, 2, 2, 2, 0, 1, 2, 5, 9, 2, 0,\n",
      "        2, 9, 9, 3, 5, 1, 2, 5])\n",
      "tensor([0.1255, 0.1192, 0.1241, 0.1483, 0.1162, 0.1289, 0.1165, 0.1417, 0.1266,\n",
      "        0.1219, 0.1611, 0.1180, 0.1295, 0.1362, 0.1145, 0.1250, 0.1192, 0.1260,\n",
      "        0.1311, 0.1354, 0.1288, 0.1259, 0.1146, 0.1239, 0.1304, 0.1232, 0.1226,\n",
      "        0.1256, 0.1174, 0.1242, 0.1188, 0.1159, 0.1198, 0.1305, 0.1241, 0.1458,\n",
      "        0.1173, 0.1588, 0.1709, 0.1453, 0.1260, 0.1290, 0.1230, 0.1247, 0.1406,\n",
      "        0.1265, 0.1363, 0.1285, 0.1303, 0.1253, 0.1270, 0.1165, 0.1365, 0.1307,\n",
      "        0.1230, 0.1259, 0.1410, 0.1129, 0.1386, 0.1363, 0.1263, 0.1330, 0.1294,\n",
      "        0.1172, 0.1190, 0.1216, 0.1245, 0.1557, 0.1228, 0.1372, 0.1285, 0.1413,\n",
      "        0.1223, 0.1521, 0.1344, 0.1415, 0.1285, 0.1594, 0.1200, 0.1245, 0.1330,\n",
      "        0.1224, 0.1219, 0.1429, 0.1232, 0.1636, 0.1725, 0.1394, 0.1400, 0.1164,\n",
      "        0.1537, 0.1304, 0.1635, 0.1657, 0.1197, 0.1176, 0.1466, 0.1356, 0.1342,\n",
      "        0.1146, 0.1524, 0.1250, 0.1324, 0.1430, 0.1387, 0.1259, 0.1312, 0.1441,\n",
      "        0.1270, 0.1357, 0.1230, 0.1381, 0.1445, 0.1234, 0.1277, 0.1430, 0.1485,\n",
      "        0.1264, 0.1372, 0.1347, 0.1328, 0.1200, 0.1293, 0.1145, 0.1268, 0.1384,\n",
      "        0.1620, 0.1376], grad_fn=<MaxBackward0>)\n"
     ]
    }
   ],
   "source": [
    "max_probs, preds = torch.max(probs, dim=1)\n",
    "print(preds)\n",
    "print(max_probs)"
   ]
  },
  {
   "cell_type": "code",
   "execution_count": 29,
   "id": "qualified-newspaper",
   "metadata": {},
   "outputs": [
    {
     "data": {
      "text/plain": [
       "tensor([0, 3, 6, 0, 1, 7, 7, 4, 8, 1, 6, 0, 9, 6, 1, 7, 7, 9, 8, 4, 5, 5, 1, 2,\n",
       "        7, 7, 6, 2, 5, 6, 8, 3, 7, 1, 9, 7, 1, 9, 0, 9, 8, 7, 9, 5, 6, 9, 7, 3,\n",
       "        3, 8, 7, 8, 3, 8, 4, 6, 5, 1, 8, 4, 6, 9, 6, 1, 9, 1, 9, 5, 1, 5, 1, 4,\n",
       "        8, 8, 0, 2, 7, 5, 9, 7, 5, 0, 8, 2, 9, 5, 0, 8, 1, 4, 6, 6, 6, 0, 3, 9,\n",
       "        3, 0, 0, 1, 6, 4, 4, 0, 2, 8, 5, 2, 2, 3, 0, 9, 0, 6, 3, 3, 6, 6, 6, 0,\n",
       "        3, 8, 4, 1, 1, 2, 0, 4])"
      ]
     },
     "execution_count": 29,
     "metadata": {},
     "output_type": "execute_result"
    }
   ],
   "source": [
    "labels"
   ]
  },
  {
   "cell_type": "code",
   "execution_count": 30,
   "id": "federal-suggestion",
   "metadata": {},
   "outputs": [
    {
     "data": {
      "text/plain": [
       "tensor(6)"
      ]
     },
     "execution_count": 30,
     "metadata": {},
     "output_type": "execute_result"
    }
   ],
   "source": [
    "torch.sum(preds == labels)"
   ]
  },
  {
   "cell_type": "code",
   "execution_count": 31,
   "id": "younger-breast",
   "metadata": {},
   "outputs": [],
   "source": [
    "def accuracy(outputs, labels):\n",
    "    _, preds = torch.max(outputs, dim=1)\n",
    "    return torch.tensor(torch.sum(preds == labels).item() / len(preds))"
   ]
  },
  {
   "cell_type": "code",
   "execution_count": 32,
   "id": "mobile-decade",
   "metadata": {},
   "outputs": [
    {
     "data": {
      "text/plain": [
       "tensor(0.0469)"
      ]
     },
     "execution_count": 32,
     "metadata": {},
     "output_type": "execute_result"
    }
   ],
   "source": [
    "accuracy(outputs, labels)"
   ]
  },
  {
   "cell_type": "code",
   "execution_count": 33,
   "id": "unlikely-blowing",
   "metadata": {},
   "outputs": [],
   "source": [
    "loss_fn = F.cross_entropy"
   ]
  },
  {
   "cell_type": "code",
   "execution_count": 34,
   "id": "tight-grammar",
   "metadata": {},
   "outputs": [
    {
     "name": "stdout",
     "output_type": "stream",
     "text": [
      "tensor(2.3153, grad_fn=<NllLossBackward>)\n"
     ]
    }
   ],
   "source": [
    "# Loss for current batch of data\n",
    "loss = loss_fn(outputs, labels)\n",
    "print(loss)"
   ]
  },
  {
   "cell_type": "code",
   "execution_count": 35,
   "id": "labeled-chart",
   "metadata": {},
   "outputs": [],
   "source": [
    "def fit(epochs, lr, model, train_loader, val_loader, opt_func=torch.optim.SGD):\n",
    "    optimizer = opt_func(model.parameters(), lr)\n",
    "    history = [] # for recording epoch-wise results\n",
    "    \n",
    "    for epoch in range(epochs):\n",
    "        \n",
    "        # Training Phase \n",
    "        for batch in train_loader:\n",
    "            loss = model.training_step(batch)\n",
    "            loss.backward()\n",
    "            optimizer.step()\n",
    "            optimizer.zero_grad()\n",
    "        \n",
    "        # Validation phase\n",
    "        result = evaluate(model, val_loader)\n",
    "        model.epoch_end(epoch, result)\n",
    "        history.append(result)\n",
    "\n",
    "    return history"
   ]
  },
  {
   "cell_type": "code",
   "execution_count": 36,
   "id": "administrative-mirror",
   "metadata": {},
   "outputs": [],
   "source": [
    "def evaluate(model, val_loader):\n",
    "    outputs = [model.validation_step(batch) for batch in val_loader]\n",
    "    return model.validation_epoch_end(outputs)"
   ]
  },
  {
   "cell_type": "code",
   "execution_count": 37,
   "id": "biblical-calibration",
   "metadata": {},
   "outputs": [],
   "source": [
    "class MnistModel(nn.Module):\n",
    "    def __init__(self):\n",
    "        super().__init__()\n",
    "        self.linear = nn.Linear(input_size, num_classes)\n",
    "        \n",
    "    def forward(self, xb):\n",
    "        xb = xb.reshape(-1, 784)\n",
    "        out = self.linear(xb)\n",
    "        return out\n",
    "    \n",
    "    def training_step(self, batch):\n",
    "        images, labels = batch \n",
    "        out = self(images)                  # Generate predictions\n",
    "        loss = F.cross_entropy(out, labels) # Calculate loss\n",
    "        return loss\n",
    "    \n",
    "    def validation_step(self, batch):\n",
    "        images, labels = batch \n",
    "        out = self(images)                    # Generate predictions\n",
    "        loss = F.cross_entropy(out, labels)   # Calculate loss\n",
    "        acc = accuracy(out, labels)           # Calculate accuracy\n",
    "        return {'val_loss': loss, 'val_acc': acc}\n",
    "        \n",
    "    def validation_epoch_end(self, outputs):\n",
    "        batch_losses = [x['val_loss'] for x in outputs]\n",
    "        epoch_loss = torch.stack(batch_losses).mean()   # Combine losses\n",
    "        batch_accs = [x['val_acc'] for x in outputs]\n",
    "        epoch_acc = torch.stack(batch_accs).mean()      # Combine accuracies\n",
    "        return {'val_loss': epoch_loss.item(), 'val_acc': epoch_acc.item()}\n",
    "    \n",
    "    def epoch_end(self, epoch, result):\n",
    "        print(\"Epoch [{}], val_loss: {:.4f}, val_acc: {:.4f}\".format(epoch, result['val_loss'], result['val_acc']))\n",
    "    \n",
    "model = MnistModel()"
   ]
  },
  {
   "cell_type": "code",
   "execution_count": 38,
   "id": "wooden-greenhouse",
   "metadata": {},
   "outputs": [
    {
     "data": {
      "text/plain": [
       "{'val_loss': 2.3568384647369385, 'val_acc': 0.0703125}"
      ]
     },
     "execution_count": 38,
     "metadata": {},
     "output_type": "execute_result"
    }
   ],
   "source": [
    "result0 = evaluate(model, val_loader)\n",
    "result0"
   ]
  },
  {
   "cell_type": "code",
   "execution_count": 39,
   "id": "molecular-demonstration",
   "metadata": {},
   "outputs": [
    {
     "name": "stdout",
     "output_type": "stream",
     "text": [
      "Epoch [0], val_loss: 1.9863, val_acc: 0.6009\n",
      "Epoch [1], val_loss: 1.7119, val_acc: 0.7160\n",
      "Epoch [2], val_loss: 1.5064, val_acc: 0.7503\n",
      "Epoch [3], val_loss: 1.3509, val_acc: 0.7721\n",
      "Epoch [4], val_loss: 1.2314, val_acc: 0.7881\n"
     ]
    }
   ],
   "source": [
    "history1 = fit(5, 0.001, model, train_loader, val_loader)"
   ]
  },
  {
   "cell_type": "code",
   "execution_count": 40,
   "id": "verbal-departure",
   "metadata": {},
   "outputs": [
    {
     "name": "stdout",
     "output_type": "stream",
     "text": [
      "Epoch [0], val_loss: 1.1375, val_acc: 0.8007\n",
      "Epoch [1], val_loss: 1.0622, val_acc: 0.8092\n",
      "Epoch [2], val_loss: 1.0007, val_acc: 0.8151\n",
      "Epoch [3], val_loss: 0.9495, val_acc: 0.8212\n",
      "Epoch [4], val_loss: 0.9062, val_acc: 0.8269\n"
     ]
    }
   ],
   "source": [
    "history2 = fit(5, 0.001, model, train_loader, val_loader)"
   ]
  },
  {
   "cell_type": "code",
   "execution_count": 41,
   "id": "institutional-rating",
   "metadata": {},
   "outputs": [
    {
     "name": "stdout",
     "output_type": "stream",
     "text": [
      "Epoch [0], val_loss: 0.8692, val_acc: 0.8312\n",
      "Epoch [1], val_loss: 0.8371, val_acc: 0.8361\n",
      "Epoch [2], val_loss: 0.8091, val_acc: 0.8386\n",
      "Epoch [3], val_loss: 0.7843, val_acc: 0.8416\n",
      "Epoch [4], val_loss: 0.7623, val_acc: 0.8438\n"
     ]
    }
   ],
   "source": [
    "history3 = fit(5, 0.001, model, train_loader, val_loader)"
   ]
  },
  {
   "cell_type": "code",
   "execution_count": 42,
   "id": "sustained-latino",
   "metadata": {},
   "outputs": [
    {
     "name": "stdout",
     "output_type": "stream",
     "text": [
      "Epoch [0], val_loss: 0.7425, val_acc: 0.8456\n",
      "Epoch [1], val_loss: 0.7247, val_acc: 0.8484\n",
      "Epoch [2], val_loss: 0.7086, val_acc: 0.8493\n",
      "Epoch [3], val_loss: 0.6939, val_acc: 0.8508\n",
      "Epoch [4], val_loss: 0.6803, val_acc: 0.8524\n"
     ]
    }
   ],
   "source": [
    "history4 = fit(5, 0.001, model, train_loader, val_loader)"
   ]
  },
  {
   "cell_type": "code",
   "execution_count": 43,
   "id": "fifteen-plaintiff",
   "metadata": {},
   "outputs": [
    {
     "data": {
      "image/png": "[encoded data removed]",
      "text/plain": [
       "<Figure size 432x288 with 1 Axes>"
      ]
     },
     "metadata": {
      "needs_background": "light"
     },
     "output_type": "display_data"
    }
   ],
   "source": [
    "history = [result0] + history1 + history2 + history3 + history4\n",
    "accuracies = [result['val_acc'] for result in history]\n",
    "plt.plot(accuracies, '-x')\n",
    "plt.xlabel('epoch')\n",
    "plt.ylabel('accuracy')\n",
    "plt.title('Accuracy vs. No. of epochs');"
   ]
  },
  {
   "cell_type": "code",
   "execution_count": 44,
   "id": "domestic-mortality",
   "metadata": {},
   "outputs": [],
   "source": [
    "# Define test dataset\n",
    "test_dataset = MNIST(root='data/', \n",
    "                     train=False,\n",
    "                     transform=transforms.ToTensor())"
   ]
  },
  {
   "cell_type": "code",
   "execution_count": 45,
   "id": "seasonal-rolling",
   "metadata": {},
   "outputs": [
    {
     "name": "stdout",
     "output_type": "stream",
     "text": [
      "Shape: torch.Size([1, 28, 28])\n",
      "Label: 7\n"
     ]
    },
    {
     "data": {
      "image/png": "[encoded data removed]",
      "text/plain": [
       "<Figure size 432x288 with 1 Axes>"
      ]
     },
     "metadata": {
      "needs_background": "light"
     },
     "output_type": "display_data"
    }
   ],
   "source": [
    "img, label = test_dataset[0]\n",
    "plt.imshow(img[0], cmap='gray')\n",
    "print('Shape:', img.shape)\n",
    "print('Label:', label)"
   ]
  },
  {
   "cell_type": "code",
   "execution_count": 46,
   "id": "elect-myanmar",
   "metadata": {},
   "outputs": [],
   "source": [
    "def predict_image(img, model):\n",
    "    xb = img.unsqueeze(0)\n",
    "    yb = model(xb)\n",
    "    _, preds = torch.max(yb, dim=1)\n",
    "    return preds[0].item()"
   ]
  },
  {
   "cell_type": "code",
   "execution_count": 47,
   "id": "purple-judgment",
   "metadata": {},
   "outputs": [
    {
     "name": "stdout",
     "output_type": "stream",
     "text": [
      "Label: 7 , Predicted: 7\n"
     ]
    },
    {
     "data": {
      "image/png": "[encoded data removed]",
      "text/plain": [
       "<Figure size 432x288 with 1 Axes>"
      ]
     },
     "metadata": {
      "needs_background": "light"
     },
     "output_type": "display_data"
    }
   ],
   "source": [
    "img, label = test_dataset[0]\n",
    "plt.imshow(img[0], cmap='gray')\n",
    "print('Label:', label, ', Predicted:', predict_image(img, model))"
   ]
  },
  {
   "cell_type": "code",
   "execution_count": 48,
   "id": "distinguished-synthetic",
   "metadata": {},
   "outputs": [
    {
     "name": "stdout",
     "output_type": "stream",
     "text": [
      "Label: 0 , Predicted: 0\n"
     ]
    },
    {
     "data": {
      "image/png": "[encoded data removed]",
      "text/plain": [
       "<Figure size 432x288 with 1 Axes>"
      ]
     },
     "metadata": {
      "needs_background": "light"
     },
     "output_type": "display_data"
    }
   ],
   "source": [
    "img, label = test_dataset[10]\n",
    "plt.imshow(img[0], cmap='gray')\n",
    "print('Label:', label, ', Predicted:', predict_image(img, model))"
   ]
  },
  {
   "cell_type": "code",
   "execution_count": 49,
   "id": "planned-attitude",
   "metadata": {},
   "outputs": [
    {
     "name": "stdout",
     "output_type": "stream",
     "text": [
      "Label: 9 , Predicted: 9\n"
     ]
    },
    {
     "data": {
      "image/png": "[encoded data removed]",
      "text/plain": [
       "<Figure size 432x288 with 1 Axes>"
      ]
     },
     "metadata": {
      "needs_background": "light"
     },
     "output_type": "display_data"
    }
   ],
   "source": [
    "img, label = test_dataset[193]\n",
    "plt.imshow(img[0], cmap='gray')\n",
    "print('Label:', label, ', Predicted:', predict_image(img, model))"
   ]
  },
  {
   "cell_type": "code",
   "execution_count": 50,
   "id": "bronze-photograph",
   "metadata": {},
   "outputs": [
    {
     "name": "stdout",
     "output_type": "stream",
     "text": [
      "Label: 2 , Predicted: 8\n"
     ]
    },
    {
     "data": {
      "image/png": "[encoded data removed]",
      "text/plain": [
       "<Figure size 432x288 with 1 Axes>"
      ]
     },
     "metadata": {
      "needs_background": "light"
     },
     "output_type": "display_data"
    }
   ],
   "source": [
    "img, label = test_dataset[1839]\n",
    "plt.imshow(img[0], cmap='gray')\n",
    "print('Label:', label, ', Predicted:', predict_image(img, model))"
   ]
  },
  {
   "cell_type": "code",
   "execution_count": 51,
   "id": "unusual-neighbor",
   "metadata": {},
   "outputs": [
    {
     "data": {
      "text/plain": [
       "{'val_loss': 0.6433743238449097, 'val_acc': 0.860644519329071}"
      ]
     },
     "execution_count": 51,
     "metadata": {},
     "output_type": "execute_result"
    }
   ],
   "source": [
    "test_loader = DataLoader(test_dataset, batch_size=256)\n",
    "result = evaluate(model, test_loader)\n",
    "result"
   ]
  },
  {
   "cell_type": "code",
   "execution_count": 52,
   "id": "white-missile",
   "metadata": {},
   "outputs": [],
   "source": [
    "torch.save(model.state_dict(), 'mnist-logistic.pth')"
   ]
  },
  {
   "cell_type": "code",
   "execution_count": 53,
   "id": "devoted-roots",
   "metadata": {},
   "outputs": [
    {
     "data": {
      "text/plain": [
       "OrderedDict([('linear.weight',\n",
       "              tensor([[ 1.4656e-02,  5.1623e-03,  2.6681e-02,  ..., -1.6046e-02,\n",
       "                       -2.5890e-02,  1.1259e-02],\n",
       "                      [-1.8846e-02, -2.2919e-02, -2.0761e-02,  ...,  1.1468e-02,\n",
       "                       -2.3985e-02, -2.3880e-02],\n",
       "                      [-2.0243e-02,  3.3400e-02,  5.9538e-05,  ...,  1.0803e-02,\n",
       "                        9.4836e-03, -2.3697e-02],\n",
       "                      ...,\n",
       "                      [ 2.2846e-02,  6.5071e-03,  3.4550e-02,  ..., -6.8057e-03,\n",
       "                       -3.0159e-02,  3.3349e-05],\n",
       "                      [ 2.9551e-02, -2.1350e-02, -9.4301e-03,  ..., -3.4921e-02,\n",
       "                       -1.6903e-02, -2.3804e-02],\n",
       "                      [ 3.0635e-02,  2.7978e-02,  2.9559e-02,  ...,  2.3978e-02,\n",
       "                        2.2028e-02,  3.1209e-03]])),\n",
       "             ('linear.bias',\n",
       "              tensor([-0.0130,  0.0720, -0.0086, -0.0366,  0.0533,  0.0565,  0.0100,  0.0718,\n",
       "                      -0.0896,  0.0113]))])"
      ]
     },
     "execution_count": 53,
     "metadata": {},
     "output_type": "execute_result"
    }
   ],
   "source": [
    "model.state_dict()"
   ]
  },
  {
   "cell_type": "code",
   "execution_count": 54,
   "id": "aggregate-acting",
   "metadata": {},
   "outputs": [],
   "source": [
    "model2 = MnistModel()"
   ]
  },
  {
   "cell_type": "code",
   "execution_count": 55,
   "id": "mathematical-database",
   "metadata": {},
   "outputs": [
    {
     "data": {
      "text/plain": [
       "OrderedDict([('linear.weight',\n",
       "              tensor([[ 0.0329,  0.0047,  0.0145,  ..., -0.0204, -0.0130,  0.0205],\n",
       "                      [ 0.0273, -0.0344, -0.0331,  ..., -0.0228, -0.0066, -0.0205],\n",
       "                      [-0.0085, -0.0160,  0.0271,  ..., -0.0012,  0.0087, -0.0031],\n",
       "                      ...,\n",
       "                      [-0.0300, -0.0354,  0.0189,  ..., -0.0238, -0.0044, -0.0014],\n",
       "                      [ 0.0044, -0.0296,  0.0149,  ..., -0.0079,  0.0235, -0.0013],\n",
       "                      [ 0.0163, -0.0115, -0.0151,  ...,  0.0091,  0.0108, -0.0233]])),\n",
       "             ('linear.bias',\n",
       "              tensor([-0.0118, -0.0140,  0.0281, -0.0211, -0.0091, -0.0106,  0.0089, -0.0172,\n",
       "                       0.0345, -0.0259]))])"
      ]
     },
     "execution_count": 55,
     "metadata": {},
     "output_type": "execute_result"
    }
   ],
   "source": [
    "model2.state_dict()"
   ]
  },
  {
   "cell_type": "code",
   "execution_count": 56,
   "id": "urban-telephone",
   "metadata": {},
   "outputs": [
    {
     "data": {
      "text/plain": [
       "{'val_loss': 2.3464603424072266, 'val_acc': 0.09140624850988388}"
      ]
     },
     "execution_count": 56,
     "metadata": {},
     "output_type": "execute_result"
    }
   ],
   "source": [
    "evaluate(model2, test_loader)"
   ]
  },
  {
   "cell_type": "code",
   "execution_count": 57,
   "id": "expected-acting",
   "metadata": {},
   "outputs": [
    {
     "data": {
      "text/plain": [
       "OrderedDict([('linear.weight',\n",
       "              tensor([[ 1.4656e-02,  5.1623e-03,  2.6681e-02,  ..., -1.6046e-02,\n",
       "                       -2.5890e-02,  1.1259e-02],\n",
       "                      [-1.8846e-02, -2.2919e-02, -2.0761e-02,  ...,  1.1468e-02,\n",
       "                       -2.3985e-02, -2.3880e-02],\n",
       "                      [-2.0243e-02,  3.3400e-02,  5.9538e-05,  ...,  1.0803e-02,\n",
       "                        9.4836e-03, -2.3697e-02],\n",
       "                      ...,\n",
       "                      [ 2.2846e-02,  6.5071e-03,  3.4550e-02,  ..., -6.8057e-03,\n",
       "                       -3.0159e-02,  3.3349e-05],\n",
       "                      [ 2.9551e-02, -2.1350e-02, -9.4301e-03,  ..., -3.4921e-02,\n",
       "                       -1.6903e-02, -2.3804e-02],\n",
       "                      [ 3.0635e-02,  2.7978e-02,  2.9559e-02,  ...,  2.3978e-02,\n",
       "                        2.2028e-02,  3.1209e-03]])),\n",
       "             ('linear.bias',\n",
       "              tensor([-0.0130,  0.0720, -0.0086, -0.0366,  0.0533,  0.0565,  0.0100,  0.0718,\n",
       "                      -0.0896,  0.0113]))])"
      ]
     },
     "execution_count": 57,
     "metadata": {},
     "output_type": "execute_result"
    }
   ],
   "source": [
    "model2.load_state_dict(torch.load('mnist-logistic.pth'))\n",
    "model2.state_dict()"
   ]
  },
  {
   "cell_type": "code",
   "execution_count": 58,
   "id": "primary-academy",
   "metadata": {},
   "outputs": [
    {
     "data": {
      "text/plain": [
       "{'val_loss': 0.6433743238449097, 'val_acc': 0.860644519329071}"
      ]
     },
     "execution_count": 58,
     "metadata": {},
     "output_type": "execute_result"
    }
   ],
   "source": [
    "test_loader = DataLoader(test_dataset, batch_size=256)\n",
    "result = evaluate(model2, test_loader)\n",
    "result"
   ]
  },
  {
   "cell_type": "code",
   "execution_count": null,
   "id": "theoretical-routine",
   "metadata": {},
   "outputs": [],
   "source": []
  }
 ],
 "metadata": {
  "kernelspec": {
   "display_name": "Python 3",
   "language": "python",
   "name": "python3"
  },
  "language_info": {
   "codemirror_mode": {
    "name": "ipython",
    "version": 3
   },
   "file_extension": ".py",
   "mimetype": "text/x-python",
   "name": "python",
   "nbconvert_exporter": "python",
   "pygments_lexer": "ipython3",
   "version": "3.6.12"
  }
 },
 "nbformat": 4,
 "nbformat_minor": 5
}
